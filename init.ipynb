# import cirq
try:
    import cirq
except ImportError:
    print("installing cirq...")
    !pip install - -quiet cirq
    print("installed cirq.")
    import cirq

# define qubits on a matrix
q0 = cirq.GridQubit(0, 0)
q1 = cirq.GridQubit(1, 0)
# define the operation for swaping sates of two qubits


def swap_circuit(a, b, measure=True):
    ##################
    # DEFINE CIRCUIT #
    ##################

    # set a to 1
    yield cirq.X(a)

    if measure:
        # measure initial state of a,b
        yield cirq.measure(a, key='a-initial'), cirq.measure(b, key='b-initial')

    yield cirq.CNOT(a, b)
    yield cirq.CNOT(b, a)
    yield cirq.CNOT(a, b)

    if measure:
        # Returns a single MeasurementGate applied to all the given qubits.
        # measure the state of a,b after swapping
        yield cirq.measure(a, key='a'), cirq.measure(b, key='b')


circuit = cirq.Circuit()
circuit.append(swap_circuit(q0, q1))

print(circuit)

simulator = cirq.Simulator()
result = simulator.run(circuit)

print(result)
